{
 "cells": [
  {
   "cell_type": "code",
   "execution_count": 1,
   "id": "b5462c46",
   "metadata": {},
   "outputs": [],
   "source": [
    "#get selenium and associated packages\n",
    "from selenium import webdriver\n",
    "from selenium.webdriver import Chrome\n",
    "from selenium.webdriver.common.keys import Keys\n",
    "from selenium.webdriver.chrome.options import Options\n",
    "from selenium.webdriver.support.select import Select\n",
    "\n",
    "from time import sleep\n",
    "\n",
    "import pandas as pd"
   ]
  },
  {
   "cell_type": "code",
   "execution_count": 2,
   "id": "a15144bd",
   "metadata": {},
   "outputs": [],
   "source": [
    "def validate_field(field):\n",
    "    if field:\n",
    "        pass\n",
    "    else:\n",
    "        field = 'No results'\n",
    "    return field"
   ]
  },
  {
   "cell_type": "code",
   "execution_count": 3,
   "id": "81b359e2",
   "metadata": {},
   "outputs": [],
   "source": [
    "driver = webdriver.Chrome('/path/to/your/chromedriver') #insert the path to your chromedriver"
   ]
  },
  {
   "cell_type": "code",
   "execution_count": 4,
   "id": "4402993d",
   "metadata": {},
   "outputs": [],
   "source": [
    "driver.get('https://signin.lexisnexis.com/lnaccess/app/signin?back=https%3A%2F%2Fadvance.lexis.com%3A443%2Fnexis%2F&aci=ndc')"
   ]
  },
  {
   "cell_type": "code",
   "execution_count": 5,
   "id": "abb01896",
   "metadata": {},
   "outputs": [],
   "source": [
    "id_field = driver.find_element_by_id('userid')\n",
    "id_field.send_keys('username') #your username here\n",
    "\n",
    "password_field = driver.find_element_by_id('password')\n",
    "password_field.send_keys(\"password\") #your password here\n",
    "\n",
    "submit_button = driver.find_element_by_id('signInSbmtBtn')\n",
    "submit_button.click()"
   ]
  },
  {
   "cell_type": "code",
   "execution_count": 83,
   "id": "f9152269",
   "metadata": {},
   "outputs": [],
   "source": [
    "driver.get('https://advance.lexis.com/BisNexisPublicRecords/?pdmfid=1519360&crid=9b995291-3e60-4f73-9310-4e673b116b11')"
   ]
  },
  {
   "cell_type": "code",
   "execution_count": 27,
   "id": "18c0d4df",
   "metadata": {},
   "outputs": [],
   "source": [
    "#select legitimate business purpose from dropdown"
   ]
  },
  {
   "cell_type": "code",
   "execution_count": 68,
   "id": "f73c54b9",
   "metadata": {},
   "outputs": [],
   "source": [
    "driver.get('https://r3.lexis.com/newnexis/FindAPerson.aspx?national=true')"
   ]
  },
  {
   "cell_type": "code",
   "execution_count": 1,
   "id": "03ee20f5",
   "metadata": {},
   "outputs": [
    {
     "ename": "NameError",
     "evalue": "name 'pd' is not defined",
     "output_type": "error",
     "traceback": [
      "\u001b[0;31m---------------------------------------------------------------------------\u001b[0m",
      "\u001b[0;31mNameError\u001b[0m                                 Traceback (most recent call last)",
      "\u001b[0;32m<ipython-input-1-c696d89f4cc9>\u001b[0m in \u001b[0;36m<module>\u001b[0;34m\u001b[0m\n\u001b[1;32m      1\u001b[0m \u001b[0;31m#create a dataframe from a csv of first and last names\u001b[0m\u001b[0;34m\u001b[0m\u001b[0;34m\u001b[0m\u001b[0;34m\u001b[0m\u001b[0m\n\u001b[0;32m----> 2\u001b[0;31m \u001b[0mdf\u001b[0m \u001b[0;34m=\u001b[0m  \u001b[0mpd\u001b[0m\u001b[0;34m.\u001b[0m\u001b[0mread_csv\u001b[0m\u001b[0;34m(\u001b[0m\u001b[0;34m'path/to/your.csv'\u001b[0m\u001b[0;34m)\u001b[0m \u001b[0;31m#insert the path to your csv here\u001b[0m\u001b[0;34m\u001b[0m\u001b[0;34m\u001b[0m\u001b[0m\n\u001b[0m\u001b[1;32m      3\u001b[0m \u001b[0mdf\u001b[0m\u001b[0;34m.\u001b[0m\u001b[0mhead\u001b[0m\u001b[0;34m(\u001b[0m\u001b[0;36m110\u001b[0m\u001b[0;34m)\u001b[0m\u001b[0;34m\u001b[0m\u001b[0;34m\u001b[0m\u001b[0m\n",
      "\u001b[0;31mNameError\u001b[0m: name 'pd' is not defined"
     ]
    }
   ],
   "source": [
    "#create a dataframe from a csv of first and last names\n",
    "df =  pd.read_csv('path/to/your.csv') #insert the path to your csv with first and last names here\n",
    "df.head()"
   ]
  },
  {
   "cell_type": "code",
   "execution_count": 8,
   "id": "7b9fefa0",
   "metadata": {},
   "outputs": [],
   "source": [
    "for i in range(0, len(df)):\n",
    "    try:\n",
    "        #set previous city to Dallas\n",
    "        previous_city = driver.find_element_by_id('MainContent_PreviousCity')\n",
    "        previous_city.clear()\n",
    "        previous_city.send_keys('Dallas') #can choose any city you'd like here\n",
    "        \n",
    "        \n",
    "        #set state and previous state to Texas (change however you'd like)\n",
    "        driver.find_element_by_xpath(\"//option[@value='TX']\").click() \n",
    "        driver.find_element_by_xpath(\"//select[@name='ctl00$MainContent$PreviousState$stateList']/option[@value='TX']\").click()\n",
    "        \n",
    "        \n",
    "        #loop through spreadsheet inputing the first and last names\n",
    "        firstname_field = driver.find_element_by_id('MainContent_Name_FirstName')\n",
    "        firstname_field.clear()\n",
    "        firstname = df['first-name'][i] #change if your first name column is called something different\n",
    "        firstname_field.send_keys(firstname)\n",
    "\n",
    "\n",
    "        lastname_field = driver.find_element_by_id('MainContent_Name_LastName')\n",
    "        lastname_field.clear()\n",
    "        lastname = df['last-name'][i] #change if you last name column is called something different\n",
    "        lastname_field.send_keys(lastname)\n",
    "\n",
    "        driver.find_element_by_id('MainContent_formSubmit_searchButton').click()\n",
    "\n",
    "        sleep(3)\n",
    "        \n",
    "        #click on the save button, switch to that window\n",
    "        driver.find_element_by_id('MainContent_resultsToolbar_deliveryDisk').click()\n",
    "\n",
    "        driver.switch_to.window(driver.window_handles[1])\n",
    "        \n",
    "        #get all possible listings\n",
    "        driver.find_element_by_id('MainContent_RadioButtonListDocumentRange_1').click()\n",
    "        #get the full reports\n",
    "        driver.find_element_by_id('MainContent_DropDownListDocumentView_1').click()\n",
    "        \n",
    "        #download and close the window\n",
    "        driver.find_element_by_id('MainContent_ButtonDelivery').click()\n",
    "        sleep(45) #depending on your internet speed you may need more or less time here\n",
    "        driver.close()\n",
    "        #switch back to original window and go back to search page\n",
    "        driver.switch_to.window(driver.window_handles[0])\n",
    "        driver.get('https://r3.lexis.com/newnexis/FindAPerson.aspx?national=true')\n",
    "    except:\n",
    "        #if it doesn't work just go back to the search page. \n",
    "        driver.get('https://r3.lexis.com/newnexis/FindAPerson.aspx?national=true')"
   ]
  }
 ],
 "metadata": {
  "kernelspec": {
   "display_name": "Python 3",
   "language": "python",
   "name": "python3"
  },
  "language_info": {
   "codemirror_mode": {
    "name": "ipython",
    "version": 3
   },
   "file_extension": ".py",
   "mimetype": "text/x-python",
   "name": "python",
   "nbconvert_exporter": "python",
   "pygments_lexer": "ipython3",
   "version": "3.8.8"
  }
 },
 "nbformat": 4,
 "nbformat_minor": 5
}
